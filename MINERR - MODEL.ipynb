{
 "cells": [
  {
   "cell_type": "code",
   "execution_count": 65,
   "id": "4ee87123",
   "metadata": {},
   "outputs": [],
   "source": [
    "# IMPORTING PANDAS\n",
    "import pandas as pd\n",
    "\n",
    "# IMPORTING NUMPY\n",
    "import numpy as np\n",
    "\n",
    "# IMPORTING MATPLOTLIB\n",
    "import matplotlib.pyplot as plt\n",
    "\n",
    "# IMPORTING SEABORN\n",
    "import seaborn as sns\n",
    "\n",
    "# CREATING INLINE FIGURES\n",
    "%matplotlib inline"
   ]
  },
  {
   "cell_type": "code",
   "execution_count": 41,
   "id": "bae6db51",
   "metadata": {},
   "outputs": [],
   "source": [
    "data = pd.read_csv('Datasets/Pre-Processed-Data.csv.')"
   ]
  },
  {
   "cell_type": "code",
   "execution_count": 42,
   "id": "43f17294",
   "metadata": {},
   "outputs": [
    {
     "name": "stdout",
     "output_type": "stream",
     "text": [
      "<class 'pandas.core.frame.DataFrame'>\n",
      "RangeIndex: 432 entries, 0 to 431\n",
      "Data columns (total 24 columns):\n",
      " #   Column             Non-Null Count  Dtype  \n",
      "---  ------             --------------  -----  \n",
      " 0   METALLOGEN         432 non-null    object \n",
      " 1   LOCALITY           432 non-null    object \n",
      " 2   STATE              432 non-null    object \n",
      " 3   TOPOSHEET          432 non-null    object \n",
      " 4   MINERAL_OR         432 non-null    object \n",
      " 5   HOSTROCK_TYPE1     430 non-null    object \n",
      " 6   HOSTROCK_TYPE2     430 non-null    object \n",
      " 7   HOSTROCK_TYPE3     432 non-null    object \n",
      " 8   HOSTROCK_TYPE4     432 non-null    object \n",
      " 9   MORPH-STRATABOUND  432 non-null    int64  \n",
      " 10  MORPH-SEDIMENTARY  432 non-null    int64  \n",
      " 11  MORPH-BEDDED       432 non-null    int64  \n",
      " 12  MORPH-SHEAR        432 non-null    int64  \n",
      " 13  MORPH-CONCORDANT   432 non-null    int64  \n",
      " 14  MORPH-DISCORDANT   432 non-null    int64  \n",
      " 15  MORPH-LENSOID      432 non-null    int64  \n",
      " 16  MORPH-RESIDUAL     432 non-null    int64  \n",
      " 17  MORPH-VEIN         432 non-null    int64  \n",
      " 18  MORPH-REMOBILISED  432 non-null    int64  \n",
      " 19  MORPH-MAGMATIC     432 non-null    int64  \n",
      " 20  MORPH-QUARTZ       432 non-null    int64  \n",
      " 21  MORPH-VOLCANIC     432 non-null    int64  \n",
      " 22  MORPH-OTHER        432 non-null    int64  \n",
      " 23  RESERVE_AMT        432 non-null    float64\n",
      "dtypes: float64(1), int64(14), object(9)\n",
      "memory usage: 81.1+ KB\n"
     ]
    }
   ],
   "source": [
    "data.info()"
   ]
  },
  {
   "cell_type": "code",
   "execution_count": 43,
   "id": "747f77ab",
   "metadata": {},
   "outputs": [
    {
     "data": {
      "text/html": [
       "<div>\n",
       "<style scoped>\n",
       "    .dataframe tbody tr th:only-of-type {\n",
       "        vertical-align: middle;\n",
       "    }\n",
       "\n",
       "    .dataframe tbody tr th {\n",
       "        vertical-align: top;\n",
       "    }\n",
       "\n",
       "    .dataframe thead th {\n",
       "        text-align: right;\n",
       "    }\n",
       "</style>\n",
       "<table border=\"1\" class=\"dataframe\">\n",
       "  <thead>\n",
       "    <tr style=\"text-align: right;\">\n",
       "      <th></th>\n",
       "      <th>METALLOGEN</th>\n",
       "      <th>LOCALITY</th>\n",
       "      <th>STATE</th>\n",
       "      <th>TOPOSHEET</th>\n",
       "      <th>MINERAL_OR</th>\n",
       "      <th>HOSTROCK_TYPE1</th>\n",
       "      <th>HOSTROCK_TYPE2</th>\n",
       "      <th>HOSTROCK_TYPE3</th>\n",
       "      <th>HOSTROCK_TYPE4</th>\n",
       "      <th>MORPH-STRATABOUND</th>\n",
       "      <th>...</th>\n",
       "      <th>MORPH-DISCORDANT</th>\n",
       "      <th>MORPH-LENSOID</th>\n",
       "      <th>MORPH-RESIDUAL</th>\n",
       "      <th>MORPH-VEIN</th>\n",
       "      <th>MORPH-REMOBILISED</th>\n",
       "      <th>MORPH-MAGMATIC</th>\n",
       "      <th>MORPH-QUARTZ</th>\n",
       "      <th>MORPH-VOLCANIC</th>\n",
       "      <th>MORPH-OTHER</th>\n",
       "      <th>RESERVE_AMT</th>\n",
       "    </tr>\n",
       "  </thead>\n",
       "  <tbody>\n",
       "    <tr>\n",
       "      <th>0</th>\n",
       "      <td>EASTERN GHAT BELT</td>\n",
       "      <td>BAGHDAPA</td>\n",
       "      <td>ORISSA</td>\n",
       "      <td>73 C</td>\n",
       "      <td>Be</td>\n",
       "      <td>PEGMATITE IN GRANULITE</td>\n",
       "      <td>-</td>\n",
       "      <td>-</td>\n",
       "      <td>-</td>\n",
       "      <td>0</td>\n",
       "      <td>...</td>\n",
       "      <td>0</td>\n",
       "      <td>0</td>\n",
       "      <td>1</td>\n",
       "      <td>0</td>\n",
       "      <td>0</td>\n",
       "      <td>0</td>\n",
       "      <td>0</td>\n",
       "      <td>0</td>\n",
       "      <td>0</td>\n",
       "      <td>38146.00</td>\n",
       "    </tr>\n",
       "    <tr>\n",
       "      <th>1</th>\n",
       "      <td>SARGIPALLI BELT</td>\n",
       "      <td>SARGIPALLI</td>\n",
       "      <td>ORISSA</td>\n",
       "      <td>64 N</td>\n",
       "      <td>Pb</td>\n",
       "      <td>GARNETIFEROUS MICA SCHIST</td>\n",
       "      <td>-</td>\n",
       "      <td>-</td>\n",
       "      <td>-</td>\n",
       "      <td>1</td>\n",
       "      <td>...</td>\n",
       "      <td>0</td>\n",
       "      <td>0</td>\n",
       "      <td>0</td>\n",
       "      <td>0</td>\n",
       "      <td>1</td>\n",
       "      <td>0</td>\n",
       "      <td>0</td>\n",
       "      <td>0</td>\n",
       "      <td>0</td>\n",
       "      <td>2.63</td>\n",
       "    </tr>\n",
       "    <tr>\n",
       "      <th>2</th>\n",
       "      <td>RORO-JOJOHATU BELT</td>\n",
       "      <td>RORO,JOJOHATU</td>\n",
       "      <td>JHARKHAND</td>\n",
       "      <td>73</td>\n",
       "      <td>Cr</td>\n",
       "      <td>ULTRAMAFIC SUIT</td>\n",
       "      <td>-</td>\n",
       "      <td>-</td>\n",
       "      <td>-</td>\n",
       "      <td>0</td>\n",
       "      <td>...</td>\n",
       "      <td>0</td>\n",
       "      <td>0</td>\n",
       "      <td>0</td>\n",
       "      <td>0</td>\n",
       "      <td>0</td>\n",
       "      <td>1</td>\n",
       "      <td>0</td>\n",
       "      <td>0</td>\n",
       "      <td>0</td>\n",
       "      <td>123283.00</td>\n",
       "    </tr>\n",
       "    <tr>\n",
       "      <th>3</th>\n",
       "      <td>BONAI-NOAMUNDI-JAMDA BELT</td>\n",
       "      <td>ITAR-BALIJODI</td>\n",
       "      <td>ORISSA</td>\n",
       "      <td>73</td>\n",
       "      <td>Fe-Hematite</td>\n",
       "      <td>BHQ</td>\n",
       "      <td>SHALE INTERLAYERED WITH LAVA</td>\n",
       "      <td>-</td>\n",
       "      <td>-</td>\n",
       "      <td>0</td>\n",
       "      <td>...</td>\n",
       "      <td>0</td>\n",
       "      <td>0</td>\n",
       "      <td>0</td>\n",
       "      <td>0</td>\n",
       "      <td>0</td>\n",
       "      <td>0</td>\n",
       "      <td>0</td>\n",
       "      <td>1</td>\n",
       "      <td>0</td>\n",
       "      <td>3.00</td>\n",
       "    </tr>\n",
       "    <tr>\n",
       "      <th>4</th>\n",
       "      <td>BONAI-NOAMUNDI-JAMDA BELT</td>\n",
       "      <td>MERALGORA</td>\n",
       "      <td>JHARKHAND</td>\n",
       "      <td>73</td>\n",
       "      <td>Fe-Hematite</td>\n",
       "      <td>BHQ</td>\n",
       "      <td>SHALE</td>\n",
       "      <td>BHQ</td>\n",
       "      <td>-</td>\n",
       "      <td>0</td>\n",
       "      <td>...</td>\n",
       "      <td>0</td>\n",
       "      <td>0</td>\n",
       "      <td>0</td>\n",
       "      <td>0</td>\n",
       "      <td>0</td>\n",
       "      <td>0</td>\n",
       "      <td>0</td>\n",
       "      <td>1</td>\n",
       "      <td>0</td>\n",
       "      <td>1.50</td>\n",
       "    </tr>\n",
       "  </tbody>\n",
       "</table>\n",
       "<p>5 rows × 24 columns</p>\n",
       "</div>"
      ],
      "text/plain": [
       "                  METALLOGEN       LOCALITY      STATE TOPOSHEET   MINERAL_OR  \\\n",
       "0          EASTERN GHAT BELT       BAGHDAPA     ORISSA      73 C           Be   \n",
       "1            SARGIPALLI BELT     SARGIPALLI     ORISSA      64 N           Pb   \n",
       "2         RORO-JOJOHATU BELT  RORO,JOJOHATU  JHARKHAND        73           Cr   \n",
       "3  BONAI-NOAMUNDI-JAMDA BELT  ITAR-BALIJODI     ORISSA        73  Fe-Hematite   \n",
       "4  BONAI-NOAMUNDI-JAMDA BELT      MERALGORA  JHARKHAND        73  Fe-Hematite   \n",
       "\n",
       "              HOSTROCK_TYPE1                HOSTROCK_TYPE2 HOSTROCK_TYPE3  \\\n",
       "0     PEGMATITE IN GRANULITE                             -              -   \n",
       "1  GARNETIFEROUS MICA SCHIST                             -              -   \n",
       "2            ULTRAMAFIC SUIT                             -              -   \n",
       "3                        BHQ  SHALE INTERLAYERED WITH LAVA              -   \n",
       "4                        BHQ                         SHALE            BHQ   \n",
       "\n",
       "  HOSTROCK_TYPE4  MORPH-STRATABOUND  ...  MORPH-DISCORDANT  MORPH-LENSOID  \\\n",
       "0              -                  0  ...                 0              0   \n",
       "1              -                  1  ...                 0              0   \n",
       "2              -                  0  ...                 0              0   \n",
       "3              -                  0  ...                 0              0   \n",
       "4              -                  0  ...                 0              0   \n",
       "\n",
       "   MORPH-RESIDUAL  MORPH-VEIN  MORPH-REMOBILISED  MORPH-MAGMATIC  \\\n",
       "0               1           0                  0               0   \n",
       "1               0           0                  1               0   \n",
       "2               0           0                  0               1   \n",
       "3               0           0                  0               0   \n",
       "4               0           0                  0               0   \n",
       "\n",
       "   MORPH-QUARTZ  MORPH-VOLCANIC  MORPH-OTHER  RESERVE_AMT  \n",
       "0             0               0            0     38146.00  \n",
       "1             0               0            0         2.63  \n",
       "2             0               0            0    123283.00  \n",
       "3             0               1            0         3.00  \n",
       "4             0               1            0         1.50  \n",
       "\n",
       "[5 rows x 24 columns]"
      ]
     },
     "execution_count": 43,
     "metadata": {},
     "output_type": "execute_result"
    }
   ],
   "source": [
    "data.head()"
   ]
  },
  {
   "cell_type": "code",
   "execution_count": 44,
   "id": "de1c3ffe",
   "metadata": {},
   "outputs": [],
   "source": [
    "from sklearn.preprocessing import LabelEncoder"
   ]
  },
  {
   "cell_type": "code",
   "execution_count": 45,
   "id": "71224c0f",
   "metadata": {},
   "outputs": [],
   "source": [
    "LE = LabelEncoder()\n",
    "data['METALLOGEN'] = LE.fit_transform(data['METALLOGEN'])\n",
    "data['LOCALITY'] = LE.fit_transform(data['LOCALITY'])\n",
    "data['STATE'] =  LE.fit_transform(data['STATE'])\n",
    "data['TOPOSHEET'] = LE.fit_transform(data['TOPOSHEET'])\n",
    "data['HOSTROCK_TYPE1'] = LE.fit_transform(data['HOSTROCK_TYPE1'])\n",
    "data['HOSTROCK_TYPE2'] = LE.fit_transform(data['HOSTROCK_TYPE2'])\n",
    "data['HOSTROCK_TYPE3'] = LE.fit_transform(data['HOSTROCK_TYPE3'])\n",
    "data['HOSTROCK_TYPE4'] = LE.fit_transform(data['HOSTROCK_TYPE4'])"
   ]
  },
  {
   "cell_type": "code",
   "execution_count": 46,
   "id": "d444d319",
   "metadata": {},
   "outputs": [
    {
     "data": {
      "text/html": [
       "<div>\n",
       "<style scoped>\n",
       "    .dataframe tbody tr th:only-of-type {\n",
       "        vertical-align: middle;\n",
       "    }\n",
       "\n",
       "    .dataframe tbody tr th {\n",
       "        vertical-align: top;\n",
       "    }\n",
       "\n",
       "    .dataframe thead th {\n",
       "        text-align: right;\n",
       "    }\n",
       "</style>\n",
       "<table border=\"1\" class=\"dataframe\">\n",
       "  <thead>\n",
       "    <tr style=\"text-align: right;\">\n",
       "      <th></th>\n",
       "      <th>METALLOGEN</th>\n",
       "      <th>LOCALITY</th>\n",
       "      <th>STATE</th>\n",
       "      <th>TOPOSHEET</th>\n",
       "      <th>MINERAL_OR</th>\n",
       "      <th>HOSTROCK_TYPE1</th>\n",
       "      <th>HOSTROCK_TYPE2</th>\n",
       "      <th>HOSTROCK_TYPE3</th>\n",
       "      <th>HOSTROCK_TYPE4</th>\n",
       "      <th>MORPH-STRATABOUND</th>\n",
       "      <th>...</th>\n",
       "      <th>MORPH-DISCORDANT</th>\n",
       "      <th>MORPH-LENSOID</th>\n",
       "      <th>MORPH-RESIDUAL</th>\n",
       "      <th>MORPH-VEIN</th>\n",
       "      <th>MORPH-REMOBILISED</th>\n",
       "      <th>MORPH-MAGMATIC</th>\n",
       "      <th>MORPH-QUARTZ</th>\n",
       "      <th>MORPH-VOLCANIC</th>\n",
       "      <th>MORPH-OTHER</th>\n",
       "      <th>RESERVE_AMT</th>\n",
       "    </tr>\n",
       "  </thead>\n",
       "  <tbody>\n",
       "    <tr>\n",
       "      <th>0</th>\n",
       "      <td>32</td>\n",
       "      <td>21</td>\n",
       "      <td>9</td>\n",
       "      <td>59</td>\n",
       "      <td>Be</td>\n",
       "      <td>82</td>\n",
       "      <td>0</td>\n",
       "      <td>0</td>\n",
       "      <td>0</td>\n",
       "      <td>0</td>\n",
       "      <td>...</td>\n",
       "      <td>0</td>\n",
       "      <td>0</td>\n",
       "      <td>1</td>\n",
       "      <td>0</td>\n",
       "      <td>0</td>\n",
       "      <td>0</td>\n",
       "      <td>0</td>\n",
       "      <td>0</td>\n",
       "      <td>0</td>\n",
       "      <td>38146.00</td>\n",
       "    </tr>\n",
       "    <tr>\n",
       "      <th>1</th>\n",
       "      <td>94</td>\n",
       "      <td>256</td>\n",
       "      <td>9</td>\n",
       "      <td>43</td>\n",
       "      <td>Pb</td>\n",
       "      <td>50</td>\n",
       "      <td>0</td>\n",
       "      <td>0</td>\n",
       "      <td>0</td>\n",
       "      <td>1</td>\n",
       "      <td>...</td>\n",
       "      <td>0</td>\n",
       "      <td>0</td>\n",
       "      <td>0</td>\n",
       "      <td>0</td>\n",
       "      <td>1</td>\n",
       "      <td>0</td>\n",
       "      <td>0</td>\n",
       "      <td>0</td>\n",
       "      <td>0</td>\n",
       "      <td>2.63</td>\n",
       "    </tr>\n",
       "    <tr>\n",
       "      <th>2</th>\n",
       "      <td>85</td>\n",
       "      <td>247</td>\n",
       "      <td>4</td>\n",
       "      <td>57</td>\n",
       "      <td>Cr</td>\n",
       "      <td>122</td>\n",
       "      <td>0</td>\n",
       "      <td>0</td>\n",
       "      <td>0</td>\n",
       "      <td>0</td>\n",
       "      <td>...</td>\n",
       "      <td>0</td>\n",
       "      <td>0</td>\n",
       "      <td>0</td>\n",
       "      <td>0</td>\n",
       "      <td>0</td>\n",
       "      <td>1</td>\n",
       "      <td>0</td>\n",
       "      <td>0</td>\n",
       "      <td>0</td>\n",
       "      <td>123283.00</td>\n",
       "    </tr>\n",
       "    <tr>\n",
       "      <th>3</th>\n",
       "      <td>23</td>\n",
       "      <td>135</td>\n",
       "      <td>9</td>\n",
       "      <td>57</td>\n",
       "      <td>Fe-Hematite</td>\n",
       "      <td>10</td>\n",
       "      <td>63</td>\n",
       "      <td>0</td>\n",
       "      <td>0</td>\n",
       "      <td>0</td>\n",
       "      <td>...</td>\n",
       "      <td>0</td>\n",
       "      <td>0</td>\n",
       "      <td>0</td>\n",
       "      <td>0</td>\n",
       "      <td>0</td>\n",
       "      <td>0</td>\n",
       "      <td>0</td>\n",
       "      <td>1</td>\n",
       "      <td>0</td>\n",
       "      <td>3.00</td>\n",
       "    </tr>\n",
       "    <tr>\n",
       "      <th>4</th>\n",
       "      <td>23</td>\n",
       "      <td>204</td>\n",
       "      <td>4</td>\n",
       "      <td>57</td>\n",
       "      <td>Fe-Hematite</td>\n",
       "      <td>10</td>\n",
       "      <td>62</td>\n",
       "      <td>7</td>\n",
       "      <td>0</td>\n",
       "      <td>0</td>\n",
       "      <td>...</td>\n",
       "      <td>0</td>\n",
       "      <td>0</td>\n",
       "      <td>0</td>\n",
       "      <td>0</td>\n",
       "      <td>0</td>\n",
       "      <td>0</td>\n",
       "      <td>0</td>\n",
       "      <td>1</td>\n",
       "      <td>0</td>\n",
       "      <td>1.50</td>\n",
       "    </tr>\n",
       "  </tbody>\n",
       "</table>\n",
       "<p>5 rows × 24 columns</p>\n",
       "</div>"
      ],
      "text/plain": [
       "   METALLOGEN  LOCALITY  STATE  TOPOSHEET   MINERAL_OR  HOSTROCK_TYPE1  \\\n",
       "0          32        21      9         59           Be              82   \n",
       "1          94       256      9         43           Pb              50   \n",
       "2          85       247      4         57           Cr             122   \n",
       "3          23       135      9         57  Fe-Hematite              10   \n",
       "4          23       204      4         57  Fe-Hematite              10   \n",
       "\n",
       "   HOSTROCK_TYPE2  HOSTROCK_TYPE3  HOSTROCK_TYPE4  MORPH-STRATABOUND  ...  \\\n",
       "0               0               0               0                  0  ...   \n",
       "1               0               0               0                  1  ...   \n",
       "2               0               0               0                  0  ...   \n",
       "3              63               0               0                  0  ...   \n",
       "4              62               7               0                  0  ...   \n",
       "\n",
       "   MORPH-DISCORDANT  MORPH-LENSOID  MORPH-RESIDUAL  MORPH-VEIN  \\\n",
       "0                 0              0               1           0   \n",
       "1                 0              0               0           0   \n",
       "2                 0              0               0           0   \n",
       "3                 0              0               0           0   \n",
       "4                 0              0               0           0   \n",
       "\n",
       "   MORPH-REMOBILISED  MORPH-MAGMATIC  MORPH-QUARTZ  MORPH-VOLCANIC  \\\n",
       "0                  0               0             0               0   \n",
       "1                  1               0             0               0   \n",
       "2                  0               1             0               0   \n",
       "3                  0               0             0               1   \n",
       "4                  0               0             0               1   \n",
       "\n",
       "   MORPH-OTHER  RESERVE_AMT  \n",
       "0            0     38146.00  \n",
       "1            0         2.63  \n",
       "2            0    123283.00  \n",
       "3            0         3.00  \n",
       "4            0         1.50  \n",
       "\n",
       "[5 rows x 24 columns]"
      ]
     },
     "execution_count": 46,
     "metadata": {},
     "output_type": "execute_result"
    }
   ],
   "source": [
    "data.head()"
   ]
  },
  {
   "cell_type": "code",
   "execution_count": 47,
   "id": "b2a66be7",
   "metadata": {},
   "outputs": [
    {
     "data": {
      "text/plain": [
       "432"
      ]
     },
     "execution_count": 47,
     "metadata": {},
     "output_type": "execute_result"
    }
   ],
   "source": [
    "len(data)"
   ]
  },
  {
   "cell_type": "markdown",
   "id": "412bc985",
   "metadata": {},
   "source": [
    "# BALANCING THE DATA FOR CLASSIFICATION\n",
    "from imblearn.over_sampling import RandomOverSampler\n",
    "from imblearn.under_sampling import RandomUnderSampler\n",
    "from collections import Counter\n",
    "print(Counter(data[\"MINERAL_OR\"]))"
   ]
  },
  {
   "cell_type": "markdown",
   "id": "4392eed8",
   "metadata": {},
   "source": [
    "ros=RandomOverSampler()\n",
    "X,Y=ros.fit_resample(data,data[\"MINERAL_OR\"])\n",
    "print(Counter(Y))"
   ]
  },
  {
   "cell_type": "code",
   "execution_count": 48,
   "id": "a6e87990",
   "metadata": {},
   "outputs": [],
   "source": [
    "#data=X.copy()"
   ]
  },
  {
   "cell_type": "markdown",
   "id": "d8537936",
   "metadata": {},
   "source": [
    "del X\n",
    "del Y"
   ]
  },
  {
   "cell_type": "code",
   "execution_count": 49,
   "id": "6182a2c9",
   "metadata": {},
   "outputs": [],
   "source": [
    "#data.info()"
   ]
  },
  {
   "cell_type": "code",
   "execution_count": 50,
   "id": "426c1c8a",
   "metadata": {},
   "outputs": [],
   "source": [
    "# CLASSIFICATION MODEL"
   ]
  },
  {
   "cell_type": "code",
   "execution_count": 51,
   "id": "92225574",
   "metadata": {},
   "outputs": [],
   "source": [
    "X=data.drop([\"MINERAL_OR\",\"RESERVE_AMT\"],axis=1)\n",
    "Y=data[\"MINERAL_OR\"]"
   ]
  },
  {
   "cell_type": "code",
   "execution_count": 52,
   "id": "723e33af",
   "metadata": {},
   "outputs": [],
   "source": [
    "from sklearn.preprocessing import MinMaxScaler\n",
    "scaler = MinMaxScaler()"
   ]
  },
  {
   "cell_type": "code",
   "execution_count": null,
   "id": "d99620e2",
   "metadata": {},
   "outputs": [],
   "source": [
    "from sklearn.model_selection"
   ]
  },
  {
   "cell_type": "code",
   "execution_count": 53,
   "id": "2bf0489d",
   "metadata": {},
   "outputs": [],
   "source": [
    "x_train = scaler.fit_transform(x_train)"
   ]
  },
  {
   "cell_type": "code",
   "execution_count": 54,
   "id": "34d5ac41",
   "metadata": {},
   "outputs": [],
   "source": [
    "from sklearn.ensemble import RandomForestClassifier"
   ]
  },
  {
   "cell_type": "code",
   "execution_count": 55,
   "id": "1be38dd6",
   "metadata": {},
   "outputs": [],
   "source": [
    "rfc = RandomForestClassifier(n_estimators=25)"
   ]
  },
  {
   "cell_type": "code",
   "execution_count": 56,
   "id": "645b5e23",
   "metadata": {},
   "outputs": [
    {
     "data": {
      "text/html": [
       "<style>#sk-container-id-2 {color: black;background-color: white;}#sk-container-id-2 pre{padding: 0;}#sk-container-id-2 div.sk-toggleable {background-color: white;}#sk-container-id-2 label.sk-toggleable__label {cursor: pointer;display: block;width: 100%;margin-bottom: 0;padding: 0.3em;box-sizing: border-box;text-align: center;}#sk-container-id-2 label.sk-toggleable__label-arrow:before {content: \"▸\";float: left;margin-right: 0.25em;color: #696969;}#sk-container-id-2 label.sk-toggleable__label-arrow:hover:before {color: black;}#sk-container-id-2 div.sk-estimator:hover label.sk-toggleable__label-arrow:before {color: black;}#sk-container-id-2 div.sk-toggleable__content {max-height: 0;max-width: 0;overflow: hidden;text-align: left;background-color: #f0f8ff;}#sk-container-id-2 div.sk-toggleable__content pre {margin: 0.2em;color: black;border-radius: 0.25em;background-color: #f0f8ff;}#sk-container-id-2 input.sk-toggleable__control:checked~div.sk-toggleable__content {max-height: 200px;max-width: 100%;overflow: auto;}#sk-container-id-2 input.sk-toggleable__control:checked~label.sk-toggleable__label-arrow:before {content: \"▾\";}#sk-container-id-2 div.sk-estimator input.sk-toggleable__control:checked~label.sk-toggleable__label {background-color: #d4ebff;}#sk-container-id-2 div.sk-label input.sk-toggleable__control:checked~label.sk-toggleable__label {background-color: #d4ebff;}#sk-container-id-2 input.sk-hidden--visually {border: 0;clip: rect(1px 1px 1px 1px);clip: rect(1px, 1px, 1px, 1px);height: 1px;margin: -1px;overflow: hidden;padding: 0;position: absolute;width: 1px;}#sk-container-id-2 div.sk-estimator {font-family: monospace;background-color: #f0f8ff;border: 1px dotted black;border-radius: 0.25em;box-sizing: border-box;margin-bottom: 0.5em;}#sk-container-id-2 div.sk-estimator:hover {background-color: #d4ebff;}#sk-container-id-2 div.sk-parallel-item::after {content: \"\";width: 100%;border-bottom: 1px solid gray;flex-grow: 1;}#sk-container-id-2 div.sk-label:hover label.sk-toggleable__label {background-color: #d4ebff;}#sk-container-id-2 div.sk-serial::before {content: \"\";position: absolute;border-left: 1px solid gray;box-sizing: border-box;top: 0;bottom: 0;left: 50%;z-index: 0;}#sk-container-id-2 div.sk-serial {display: flex;flex-direction: column;align-items: center;background-color: white;padding-right: 0.2em;padding-left: 0.2em;position: relative;}#sk-container-id-2 div.sk-item {position: relative;z-index: 1;}#sk-container-id-2 div.sk-parallel {display: flex;align-items: stretch;justify-content: center;background-color: white;position: relative;}#sk-container-id-2 div.sk-item::before, #sk-container-id-2 div.sk-parallel-item::before {content: \"\";position: absolute;border-left: 1px solid gray;box-sizing: border-box;top: 0;bottom: 0;left: 50%;z-index: -1;}#sk-container-id-2 div.sk-parallel-item {display: flex;flex-direction: column;z-index: 1;position: relative;background-color: white;}#sk-container-id-2 div.sk-parallel-item:first-child::after {align-self: flex-end;width: 50%;}#sk-container-id-2 div.sk-parallel-item:last-child::after {align-self: flex-start;width: 50%;}#sk-container-id-2 div.sk-parallel-item:only-child::after {width: 0;}#sk-container-id-2 div.sk-dashed-wrapped {border: 1px dashed gray;margin: 0 0.4em 0.5em 0.4em;box-sizing: border-box;padding-bottom: 0.4em;background-color: white;}#sk-container-id-2 div.sk-label label {font-family: monospace;font-weight: bold;display: inline-block;line-height: 1.2em;}#sk-container-id-2 div.sk-label-container {text-align: center;}#sk-container-id-2 div.sk-container {/* jupyter's `normalize.less` sets `[hidden] { display: none; }` but bootstrap.min.css set `[hidden] { display: none !important; }` so we also need the `!important` here to be able to override the default hidden behavior on the sphinx rendered scikit-learn.org. See: https://github.com/scikit-learn/scikit-learn/issues/21755 */display: inline-block !important;position: relative;}#sk-container-id-2 div.sk-text-repr-fallback {display: none;}</style><div id=\"sk-container-id-2\" class=\"sk-top-container\"><div class=\"sk-text-repr-fallback\"><pre>RandomForestClassifier(n_estimators=25)</pre><b>In a Jupyter environment, please rerun this cell to show the HTML representation or trust the notebook. <br />On GitHub, the HTML representation is unable to render, please try loading this page with nbviewer.org.</b></div><div class=\"sk-container\" hidden><div class=\"sk-item\"><div class=\"sk-estimator sk-toggleable\"><input class=\"sk-toggleable__control sk-hidden--visually\" id=\"sk-estimator-id-2\" type=\"checkbox\" checked><label for=\"sk-estimator-id-2\" class=\"sk-toggleable__label sk-toggleable__label-arrow\">RandomForestClassifier</label><div class=\"sk-toggleable__content\"><pre>RandomForestClassifier(n_estimators=25)</pre></div></div></div></div></div>"
      ],
      "text/plain": [
       "RandomForestClassifier(n_estimators=25)"
      ]
     },
     "execution_count": 56,
     "metadata": {},
     "output_type": "execute_result"
    }
   ],
   "source": [
    "rfc.fit(X,Y)"
   ]
  },
  {
   "cell_type": "code",
   "execution_count": 57,
   "id": "2bdda7df",
   "metadata": {},
   "outputs": [],
   "source": [
    "# SAVING THE MODEL"
   ]
  },
  {
   "cell_type": "code",
   "execution_count": 58,
   "id": "3268128c",
   "metadata": {},
   "outputs": [],
   "source": [
    "import pickle"
   ]
  },
  {
   "cell_type": "code",
   "execution_count": 59,
   "id": "0dc16d17",
   "metadata": {},
   "outputs": [],
   "source": [
    "pickle.dump(rfc,open(\"Saved Models/minerals.sav\",'wb'))"
   ]
  },
  {
   "cell_type": "code",
   "execution_count": 60,
   "id": "b2220ca1",
   "metadata": {},
   "outputs": [],
   "source": [
    "# LOADING THE MODEL"
   ]
  },
  {
   "cell_type": "code",
   "execution_count": 61,
   "id": "7ed0b1bc",
   "metadata": {},
   "outputs": [],
   "source": [
    "loaded_model = pickle.load(open('Saved Models/minerals.sav', 'rb'))"
   ]
  },
  {
   "cell_type": "code",
   "execution_count": 62,
   "id": "271be6cd",
   "metadata": {},
   "outputs": [
    {
     "data": {
      "text/plain": [
       "METALLOGEN                32\n",
       "LOCALITY                  21\n",
       "STATE                      9\n",
       "TOPOSHEET                 59\n",
       "MINERAL_OR                Be\n",
       "HOSTROCK_TYPE1            82\n",
       "HOSTROCK_TYPE2             0\n",
       "HOSTROCK_TYPE3             0\n",
       "HOSTROCK_TYPE4             0\n",
       "MORPH-STRATABOUND          0\n",
       "MORPH-SEDIMENTARY          0\n",
       "MORPH-BEDDED               0\n",
       "MORPH-SHEAR                0\n",
       "MORPH-CONCORDANT           0\n",
       "MORPH-DISCORDANT           0\n",
       "MORPH-LENSOID              0\n",
       "MORPH-RESIDUAL             1\n",
       "MORPH-VEIN                 0\n",
       "MORPH-REMOBILISED          0\n",
       "MORPH-MAGMATIC             0\n",
       "MORPH-QUARTZ               0\n",
       "MORPH-VOLCANIC             0\n",
       "MORPH-OTHER                0\n",
       "RESERVE_AMT          38146.0\n",
       "Name: 0, dtype: object"
      ]
     },
     "execution_count": 62,
     "metadata": {},
     "output_type": "execute_result"
    }
   ],
   "source": [
    "data.loc[0]"
   ]
  },
  {
   "cell_type": "code",
   "execution_count": 63,
   "id": "efe514dc",
   "metadata": {},
   "outputs": [],
   "source": [
    "input_data = [32,21,9,59,82,0,0,0,0,0,0,0,0,0,0,1,0,0,0,0,0,0]"
   ]
  },
  {
   "cell_type": "code",
   "execution_count": 64,
   "id": "931839c7",
   "metadata": {},
   "outputs": [
    {
     "name": "stdout",
     "output_type": "stream",
     "text": [
      "['Be']\n"
     ]
    },
    {
     "name": "stderr",
     "output_type": "stream",
     "text": [
      "C:\\Users\\Deeshu\\anaconda3\\lib\\site-packages\\sklearn\\base.py:450: UserWarning: X does not have valid feature names, but RandomForestClassifier was fitted with feature names\n",
      "  warnings.warn(\n"
     ]
    }
   ],
   "source": [
    "# changing the input_data to numpy array\n",
    "input_data_as_numpy_array = np.asarray(input_data)\n",
    "\n",
    "prediction = loaded_model.predict(input_data_reshaped)\n",
    "print(prediction)"
   ]
  },
  {
   "cell_type": "code",
   "execution_count": null,
   "id": "a7ee3df4",
   "metadata": {},
   "outputs": [],
   "source": []
  }
 ],
 "metadata": {
  "kernelspec": {
   "display_name": "Python 3 (ipykernel)",
   "language": "python",
   "name": "python3"
  },
  "language_info": {
   "codemirror_mode": {
    "name": "ipython",
    "version": 3
   },
   "file_extension": ".py",
   "mimetype": "text/x-python",
   "name": "python",
   "nbconvert_exporter": "python",
   "pygments_lexer": "ipython3",
   "version": "3.9.7"
  }
 },
 "nbformat": 4,
 "nbformat_minor": 5
}
