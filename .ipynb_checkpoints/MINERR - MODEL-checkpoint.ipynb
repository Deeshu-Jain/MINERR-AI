{
 "cells": [
  {
   "cell_type": "code",
   "execution_count": 1,
   "id": "4ee87123",
   "metadata": {},
   "outputs": [],
   "source": [
    "# IMPORTING PANDAS\n",
    "import pandas as pd\n",
    "\n",
    "# IMPORTING NUMPY\n",
    "import numpy as np\n",
    "\n",
    "# IMPORTING MATPLOTLIB\n",
    "import matplotlib.pyplot as plt\n",
    "\n",
    "# IMPORTING SEABORN\n",
    "import seaborn as sns\n",
    "\n",
    "# CREATING INLINE FIGURES\n",
    "%matplotlib inline"
   ]
  },
  {
   "cell_type": "code",
   "execution_count": 2,
   "id": "bae6db51",
   "metadata": {},
   "outputs": [],
   "source": [
    "df = pd.read_csv('Datasets/Pre-Processed-Data.csv.')"
   ]
  },
  {
   "cell_type": "code",
   "execution_count": 3,
   "id": "43f17294",
   "metadata": {},
   "outputs": [
    {
     "name": "stdout",
     "output_type": "stream",
     "text": [
      "<class 'pandas.core.frame.DataFrame'>\n",
      "RangeIndex: 432 entries, 0 to 431\n",
      "Data columns (total 25 columns):\n",
      " #   Column             Non-Null Count  Dtype  \n",
      "---  ------             --------------  -----  \n",
      " 0   Unnamed: 0         432 non-null    int64  \n",
      " 1   METALLOGEN         432 non-null    object \n",
      " 2   LOCALITY           432 non-null    object \n",
      " 3   STATE              432 non-null    object \n",
      " 4   TOPOSHEET          432 non-null    object \n",
      " 5   MINERAL_OR         432 non-null    object \n",
      " 6   HOSTROCK_TYPE1     430 non-null    object \n",
      " 7   HOSTROCK_TYPE2     430 non-null    object \n",
      " 8   HOSTROCK_TYPE3     432 non-null    object \n",
      " 9   HOSTROCK_TYPE4     432 non-null    object \n",
      " 10  MORPH-STRATABOUND  432 non-null    int64  \n",
      " 11  MORPH-SEDIMENTARY  432 non-null    int64  \n",
      " 12  MORPH-BEDDED       432 non-null    int64  \n",
      " 13  MORPH-SHEAR        432 non-null    int64  \n",
      " 14  MORPH-CONCORDANT   432 non-null    int64  \n",
      " 15  MORPH-DISCORDANT   432 non-null    int64  \n",
      " 16  MORPH-LENSOID      432 non-null    int64  \n",
      " 17  MORPH-RESIDUAL     432 non-null    int64  \n",
      " 18  MORPH-VEIN         432 non-null    int64  \n",
      " 19  MORPH-REMOBILISED  432 non-null    int64  \n",
      " 20  MORPH-MAGMATIC     432 non-null    int64  \n",
      " 21  MORPH-QUARTZ       432 non-null    int64  \n",
      " 22  MORPH-VOLCANIC     432 non-null    int64  \n",
      " 23  MORPH-OTHER        432 non-null    int64  \n",
      " 24  RESERVE_AMT        432 non-null    float64\n",
      "dtypes: float64(1), int64(15), object(9)\n",
      "memory usage: 84.5+ KB\n"
     ]
    }
   ],
   "source": [
    "df.info()"
   ]
  },
  {
   "cell_type": "code",
   "execution_count": null,
   "id": "747f77ab",
   "metadata": {},
   "outputs": [],
   "source": []
  },
  {
   "cell_type": "code",
   "execution_count": null,
   "id": "8f46d231",
   "metadata": {},
   "outputs": [],
   "source": []
  },
  {
   "cell_type": "code",
   "execution_count": null,
   "id": "791f8a3a",
   "metadata": {},
   "outputs": [],
   "source": []
  },
  {
   "cell_type": "code",
   "execution_count": null,
   "id": "71224c0f",
   "metadata": {},
   "outputs": [],
   "source": [
    "LE = LabelEncoder()\n",
    "data['METALLOGEN'] = LE.fit_transform(data['METALLOGEN'])\n",
    "data['LOCALITY'] = LE.fit_transform(data['LOCALITY'])\n",
    "data['STATE'] =  LE.fit_transform(data['STATE'])\n",
    "data['TOPOSHEET'] = LE.fit_transform(data['TOPOSHEET'])\n",
    "data['HOSTROCK_TYPE1'] = LE.fit_transform(data['HOSTROCK_TYPE1'])\n",
    "data['HOSTROCK_TYPE2'] = LE.fit_transform(data['HOSTROCK_TYPE2'])\n",
    "data['HOSTROCK_TYPE3'] = LE.fit_transform(data['HOSTROCK_TYPE3'])\n",
    "data['HOSTROCK_TYPE4'] = LE.fit_transform(data['HOSTROCK_TYPE4'])"
   ]
  },
  {
   "cell_type": "code",
   "execution_count": null,
   "id": "b142d81b",
   "metadata": {},
   "outputs": [],
   "source": [
    "# BALANCING THE DATA FOR CLASSIFICATION\n",
    "from imblearn.over_sampling import RandomOverSampler\n",
    "from imblearn.under_sampling import RandomUnderSampler\n",
    "from collections import Counter\n",
    "print(Counter(data[\"MINERAL_OR\"]))"
   ]
  },
  {
   "cell_type": "code",
   "execution_count": null,
   "id": "d73b88b3",
   "metadata": {},
   "outputs": [],
   "source": [
    "ros=RandomOverSampler()\n",
    "X,Y=ros.fit_resample(data.drop(\"RESERVE_AMT\",axis=1),data[\"MINERAL_OR\"])\n",
    "print(Counter(Y))"
   ]
  },
  {
   "cell_type": "code",
   "execution_count": null,
   "id": "6182a2c9",
   "metadata": {},
   "outputs": [],
   "source": []
  }
 ],
 "metadata": {
  "kernelspec": {
   "display_name": "Python 3 (ipykernel)",
   "language": "python",
   "name": "python3"
  },
  "language_info": {
   "codemirror_mode": {
    "name": "ipython",
    "version": 3
   },
   "file_extension": ".py",
   "mimetype": "text/x-python",
   "name": "python",
   "nbconvert_exporter": "python",
   "pygments_lexer": "ipython3",
   "version": "3.9.7"
  }
 },
 "nbformat": 4,
 "nbformat_minor": 5
}
